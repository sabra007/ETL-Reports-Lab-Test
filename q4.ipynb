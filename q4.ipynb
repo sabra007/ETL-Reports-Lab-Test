{
 "cells": [
  {
   "cell_type": "markdown",
   "metadata": {},
   "source": [
    "# Question 4"
   ]
  },
  {
   "cell_type": "markdown",
   "metadata": {},
   "source": [
    "4. How does the % of pregnant women recieving prenatal care compare to the infant mortality rate?\n",
    "\n",
    "Pregnant women recieving prenatal care (%): https://data.worldbank.org/indicator/SH.STA.ANVC.ZS?view=chart\n",
    "Mortality rate, infant (per 1,000 live births): https://data.worldbank.org/indicator/SP.DYN.IMRT.IN?view=chart\n",
    "\n",
    "### Exctract\n",
    "Read in the csv files for Pregnant women receiving prenatal care, and Mortality rate, infant (per 1,000 live births)\n",
    "Skip the first 4 rows using the parameter, skiprows = 4.\n",
    "\n",
    "Store each csv in separate variables.\n",
    "\n",
    "### Transform\n",
    "4. To compare the prenatal care percentages to infant mortality, use all data collected in 2000 across various countries.\n",
    "    - Remove rows with 'Country Code' = ['WLD', 'LAC', 'LCN', 'NAC', 'TLA', 'CEB', 'ECA', 'ECS', 'EU', 'TEC', 'EAP', 'EAS', 'SAS', 'TEA', 'TSA', 'MEA', 'MNA', 'SSA', 'SSF', 'TMN', 'TSS', 'ZAF', 'AFE', 'AFW', 'CAF']\n",
    "        - Those are aggregated countries like North America, etc.\n",
    "    - Filter both prenatal care dataframe and infant mortality dataframe for \"Country Name\" and \"2000\".\n",
    "    - Rename 2000 column in both dataframes to reflect dataset - Prenatal care or Infant Mortality.\n",
    "    - Remove rows that are empty in the \"2000\" column - meaning they are missing Prenatal or Mortality data.\n",
    "    - Inner merge DataFrames on \"Country Name\"."
   ]
  },
  {
   "cell_type": "code",
   "execution_count": 1,
   "metadata": {},
   "outputs": [],
   "source": [
    "import pandas as pd"
   ]
  },
  {
   "cell_type": "code",
   "execution_count": 2,
   "metadata": {},
   "outputs": [],
   "source": [
    "# Exctract\n",
    "\n",
    "pregnant_w_rec_pre_c = pd.read_csv('data/API_SH.STA.ANVC.ZS_DS2_en_csv_v2_3482303.csv', skiprows=4)\n",
    "mortality_rate_infant = pd.read_csv('data/API_SP.DYN.IMRT.IN_DS2_en_csv_v2_3469928.csv', skiprows=4)"
   ]
  },
  {
   "cell_type": "code",
   "execution_count": 3,
   "metadata": {},
   "outputs": [],
   "source": [
    "# Transform\n",
    "\n",
    "mortality_rate_infant.drop([\"Indicator Name\",\"Indicator Code\",\"1960\",\"1961\",\"1962\",\"1963\",\"1964\",\"1965\",\"1966\",\"1967\",\"1968\",\"1969\",\"1970\",\"1971\",\"1972\",\"1973\",\"1974\",\"1975\",\"1976\",\"1977\",\"1978\",\"1979\",\"1980\",\"1981\",\"1982\",\"1983\",\"1984\",\"1985\",\"1986\",\"1987\",\"1988\",\"1989\",\"1990\",\"1991\",\"1992\",\"1993\",\"1994\",\"1995\",\"1996\",\"1997\",\"1998\",\"1999\",\"2001\",\"2002\",\"2003\",\"2004\",\"2005\",\"2006\",\"2007\",\"2008\",\"2009\",\"2010\",\"2011\",\"2012\",\"2013\",\"2014\",\"2015\",\"2016\", \"2017\",\"2018\",\"2019\",\"2020\",\"Unnamed: 65\"], axis=1, inplace=True)\n",
    "pregnant_w_rec_pre_c.drop([\"Indicator Name\",\"Indicator Code\",\"1960\",\"1961\",\"1962\",\"1963\",\"1964\",\"1965\",\"1966\",\"1967\",\"1968\",\"1969\",\"1970\",\"1971\",\"1972\",\"1973\",\"1974\",\"1975\",\"1976\",\"1977\",\"1978\",\"1979\",\"1980\",\"1981\",\"1982\",\"1983\",\"1984\",\"1985\",\"1986\",\"1987\",\"1988\",\"1989\",\"1990\",\"1991\",\"1992\",\"1993\",\"1994\",\"1995\",\"1996\",\"1997\",\"1998\",\"1999\",\"2001\",\"2002\",\"2003\",\"2004\",\"2005\",\"2006\",\"2007\",\"2008\",\"2009\",\"2010\",\"2011\",\"2012\",\"2013\",\"2014\",\"2015\",\"2016\", \"2017\",\"2018\",\"2019\",\"2020\",\"Unnamed: 65\"], axis=1, inplace=True)\n",
    "mortality_rate_infant.drop(mortality_rate_infant[mortality_rate_infant['Country Code'].isin(['WLD', 'LAC', 'LCN', 'NAC', 'TLA', 'CEB', 'ECA', 'ECS', 'EU', 'TEC', 'EAP', 'EAS', 'SAS', 'TEA', 'TSA', 'MEA', 'MNA', 'SSA', 'SSF', 'TMN', 'TSS', 'ZAF', 'AFE', 'AFW', 'CAF'])].index, inplace=True)\n",
    "pregnant_w_rec_pre_c.drop(pregnant_w_rec_pre_c[pregnant_w_rec_pre_c['Country Code'].isin(['WLD', 'LAC', 'LCN', 'NAC', 'TLA', 'CEB', 'ECA', 'ECS', 'EU', 'TEC', 'EAP', 'EAS', 'SAS', 'TEA', 'TSA', 'MEA', 'MNA', 'SSA', 'SSF', 'TMN', 'TSS', 'ZAF', 'AFE', 'AFW', 'CAF'])].index, inplace=True)\n",
    "mortality_rate_infant.drop(['Country Code'], axis=1, inplace=True)\n",
    "pregnant_w_rec_pre_c.drop(['Country Code'], axis=1, inplace=True)\n",
    "\n",
    "pregnant_w_rec_pre_c.rename({'2000':'2000-preg'}, axis = 1, inplace=True)\n",
    "mortality_rate_infant.rename({'2000':'2000-mmr'}, axis = 1, inplace=True)\n",
    "mortality_rate_infant.dropna(subset=['2000-mmr'], axis=0, inplace=True)\n",
    "pregnant_w_rec_pre_c.dropna(subset=['2000-preg'], axis=0, inplace=True)\n",
    "\n",
    "merged = mortality_rate_infant.merge(pregnant_w_rec_pre_c, how='inner', on='Country Name')"
   ]
  },
  {
   "cell_type": "code",
   "execution_count": 4,
   "metadata": {},
   "outputs": [
    {
     "data": {
      "text/html": [
       "<div>\n",
       "<style scoped>\n",
       "    .dataframe tbody tr th:only-of-type {\n",
       "        vertical-align: middle;\n",
       "    }\n",
       "\n",
       "    .dataframe tbody tr th {\n",
       "        vertical-align: top;\n",
       "    }\n",
       "\n",
       "    .dataframe thead th {\n",
       "        text-align: right;\n",
       "    }\n",
       "</style>\n",
       "<table border=\"1\" class=\"dataframe\">\n",
       "  <thead>\n",
       "    <tr style=\"text-align: right;\">\n",
       "      <th></th>\n",
       "      <th>Country Name</th>\n",
       "      <th>2000-mmr</th>\n",
       "      <th>2000-preg</th>\n",
       "    </tr>\n",
       "  </thead>\n",
       "  <tbody>\n",
       "    <tr>\n",
       "      <th>0</th>\n",
       "      <td>Afghanistan</td>\n",
       "      <td>90.200000</td>\n",
       "      <td>36.900000</td>\n",
       "    </tr>\n",
       "    <tr>\n",
       "      <th>1</th>\n",
       "      <td>Albania</td>\n",
       "      <td>24.100000</td>\n",
       "      <td>95.300000</td>\n",
       "    </tr>\n",
       "    <tr>\n",
       "      <th>2</th>\n",
       "      <td>Arab World</td>\n",
       "      <td>43.792997</td>\n",
       "      <td>64.741839</td>\n",
       "    </tr>\n",
       "    <tr>\n",
       "      <th>3</th>\n",
       "      <td>Armenia</td>\n",
       "      <td>27.000000</td>\n",
       "      <td>92.400000</td>\n",
       "    </tr>\n",
       "    <tr>\n",
       "      <th>4</th>\n",
       "      <td>Antigua and Barbuda</td>\n",
       "      <td>13.000000</td>\n",
       "      <td>99.900000</td>\n",
       "    </tr>\n",
       "    <tr>\n",
       "      <th>...</th>\n",
       "      <td>...</td>\n",
       "      <td>...</td>\n",
       "      <td>...</td>\n",
       "    </tr>\n",
       "    <tr>\n",
       "      <th>86</th>\n",
       "      <td>Upper middle income</td>\n",
       "      <td>29.900000</td>\n",
       "      <td>87.638591</td>\n",
       "    </tr>\n",
       "    <tr>\n",
       "      <th>87</th>\n",
       "      <td>Uzbekistan</td>\n",
       "      <td>51.800000</td>\n",
       "      <td>97.200000</td>\n",
       "    </tr>\n",
       "    <tr>\n",
       "      <th>88</th>\n",
       "      <td>St. Vincent and the Grenadines</td>\n",
       "      <td>19.200000</td>\n",
       "      <td>99.000000</td>\n",
       "    </tr>\n",
       "    <tr>\n",
       "      <th>89</th>\n",
       "      <td>Venezuela, RB</td>\n",
       "      <td>18.400000</td>\n",
       "      <td>94.100000</td>\n",
       "    </tr>\n",
       "    <tr>\n",
       "      <th>90</th>\n",
       "      <td>Vietnam</td>\n",
       "      <td>23.400000</td>\n",
       "      <td>68.300000</td>\n",
       "    </tr>\n",
       "  </tbody>\n",
       "</table>\n",
       "<p>91 rows × 3 columns</p>\n",
       "</div>"
      ],
      "text/plain": [
       "                      Country Name   2000-mmr  2000-preg\n",
       "0                      Afghanistan  90.200000  36.900000\n",
       "1                          Albania  24.100000  95.300000\n",
       "2                       Arab World  43.792997  64.741839\n",
       "3                          Armenia  27.000000  92.400000\n",
       "4              Antigua and Barbuda  13.000000  99.900000\n",
       "..                             ...        ...        ...\n",
       "86             Upper middle income  29.900000  87.638591\n",
       "87                      Uzbekistan  51.800000  97.200000\n",
       "88  St. Vincent and the Grenadines  19.200000  99.000000\n",
       "89                   Venezuela, RB  18.400000  94.100000\n",
       "90                         Vietnam  23.400000  68.300000\n",
       "\n",
       "[91 rows x 3 columns]"
      ]
     },
     "execution_count": 4,
     "metadata": {},
     "output_type": "execute_result"
    }
   ],
   "source": [
    "merged"
   ]
  },
  {
   "cell_type": "code",
   "execution_count": null,
   "metadata": {},
   "outputs": [],
   "source": []
  }
 ],
 "metadata": {
  "interpreter": {
   "hash": "63fd5069d213b44bf678585dea6b12cceca9941eaf7f819626cde1f2670de90d"
  },
  "kernelspec": {
   "display_name": "Python 3.9.6 64-bit",
   "language": "python",
   "name": "python3"
  },
  "language_info": {
   "codemirror_mode": {
    "name": "ipython",
    "version": 3
   },
   "file_extension": ".py",
   "mimetype": "text/x-python",
   "name": "python",
   "nbconvert_exporter": "python",
   "pygments_lexer": "ipython3",
   "version": "3.9.6"
  },
  "orig_nbformat": 4
 },
 "nbformat": 4,
 "nbformat_minor": 2
}
