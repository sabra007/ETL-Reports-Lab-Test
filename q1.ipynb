{
 "cells": [
  {
   "cell_type": "markdown",
   "metadata": {},
   "source": [
    "# Question 1"
   ]
  },
  {
   "cell_type": "markdown",
   "metadata": {},
   "source": [
    "1. How does the life expectancy of male vs female change in Asia and North America from 1960-2019?\n",
    "\n",
    "Life expectancy at birth, male: https://data.worldbank.org/indicator/SP.DYN.LE00.MA.IN?view=chart\n",
    "Life expectancy at birth, female: https://data.worldbank.org/indicator/SP.DYN.LE00.FE.IN?view=chart\n",
    "\n",
    "### Exctract\n",
    "Read in Life_Expectancy_Male.csv and Life_Expectancy_Female.csv using pd.read_csv and store them in separate variables.\n",
    "\n",
    "### Transform\n",
    "\n",
    "1.\n",
    "    - Drop unnecessary columns using Dataframe.drop(), pass in the columns: ‘Indicator Name’, ‘Indicator Code’, ‘2020’, ‘Unnamed: 65’ as a list. Set ‘axis’ - parameter to 1 and ‘inplace’ to True.\n",
    "    - Drop empty rows using Dataframe.dropna() to drop the empty rows. Set ‘inplace’ to True.\n",
    "    - Filter the data for East Asia & Pacific by filtering out the row where Country Code = 'EAS', store this data in a separate variable.\n",
    "    - Filter the data for North America by filtering out the row where Country Code = 'NAC', store this data in a separate variable.\n",
    "    - (Do the above steps for both male and female dataset)\n",
    "    - To extract values from Dataframe for plotting visualizations, index with [2:] to eliminate the first two columns (Country Name, Country Code)."
   ]
  },
  {
   "cell_type": "code",
   "execution_count": 26,
   "metadata": {},
   "outputs": [],
   "source": [
    "import pandas as pd"
   ]
  },
  {
   "cell_type": "code",
   "execution_count": 42,
   "metadata": {},
   "outputs": [],
   "source": [
    "# exctarct\n",
    "life_exp_male = pd.read_csv(\"data/API_SP.DYN.LE00.MA.IN_DS2_en_csv_v2_3476771.csv\", skiprows=3)\n",
    "life_exp_female = pd.read_csv(\"data/API_SP.DYN.LE00.FE.IN_DS2_en_csv_v2_3475317.csv\", skiprows=3)"
   ]
  },
  {
   "cell_type": "code",
   "execution_count": 43,
   "metadata": {},
   "outputs": [],
   "source": [
    "# transform\n",
    "life_exp_male.drop(['Indicator Name', 'Indicator Code', '2020', 'Unnamed: 65'], axis=1, inplace=True)\n",
    "life_exp_female.drop(['Indicator Name', 'Indicator Code', '2020', 'Unnamed: 65'], axis=1, inplace=True)\n",
    "life_exp_male.dropna(inplace=True)\n",
    "life_exp_female.dropna(inplace=True)\n",
    "\n",
    "fmEAS = life_exp_female[life_exp_female['Country Code']=='EAS']\n",
    "fmNAC = life_exp_female[life_exp_female['Country Code']=='NAC']\n",
    "mEAS = life_exp_male[life_exp_male['Country Code'] == 'EAS']\n",
    "mNAC = life_exp_male[life_exp_male['Country Code'] == 'NAC']"
   ]
  },
  {
   "cell_type": "code",
   "execution_count": null,
   "metadata": {},
   "outputs": [],
   "source": []
  },
  {
   "cell_type": "code",
   "execution_count": null,
   "metadata": {},
   "outputs": [],
   "source": []
  }
 ],
 "metadata": {
  "interpreter": {
   "hash": "63fd5069d213b44bf678585dea6b12cceca9941eaf7f819626cde1f2670de90d"
  },
  "kernelspec": {
   "display_name": "Python 3.9.6 64-bit",
   "language": "python",
   "name": "python3"
  },
  "language_info": {
   "codemirror_mode": {
    "name": "ipython",
    "version": 3
   },
   "file_extension": ".py",
   "mimetype": "text/x-python",
   "name": "python",
   "nbconvert_exporter": "python",
   "pygments_lexer": "ipython3",
   "version": "3.9.6"
  },
  "orig_nbformat": 4
 },
 "nbformat": 4,
 "nbformat_minor": 2
}
