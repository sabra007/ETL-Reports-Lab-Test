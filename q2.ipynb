{
 "cells": [
  {
   "cell_type": "markdown",
   "metadata": {},
   "source": []
  },
  {
   "cell_type": "markdown",
   "metadata": {},
   "source": [
    "# Question 2"
   ]
  },
  {
   "cell_type": "markdown",
   "metadata": {},
   "source": [
    "2. How does the risk of impoverishing expenditures for surgical care correlate to the death rate per 1000 people in 2018? Reach: all the 2009-2018 data?\n",
    "\n",
    "2a. Risk of impoverishing expenditures: https://data.worldbank.org/indicator/SH.SGR.IRSK.ZS?view=chart\n",
    "2b. Death Rate, Crude (per 1000 people): https://data.worldbank.org/indicator/SP.DYN.CDRT.IN?view=chart \n",
    "\n",
    "### Extraction\n",
    "\n",
    "- Using pd.read_csv, read in both .csv files as separate pandas DataFrames.\n",
    "- Skip the first 4 rows using the parameter, skiprows = 4.\n",
    " \n",
    "### Transformation\n",
    "How does the risk of impoverishing expenditures for surgical care correlate to the death rate per 1000 people in 2018?\n",
    "\n",
    "- 2a. Risk of impoverishing expenditures\n",
    "    - Drop all colunns besides '2018', 'Country Name', 'Country Code' \n",
    "    - Change '2018' column name to 'ImpovRiskPercent'\n",
    "    - Remove rows with NaN in 'ImpovRiskPercent'\n",
    "    - Remove rows with 'Country Code' = ['WLD', 'LAC', 'LCN', 'NAC', 'TLA', 'CEB', 'ECA', 'ECS', 'EU', 'TEC', 'EAP', 'EAS', 'SAS', 'TEA', 'TSA', 'MEA', 'MNA', 'SSA', 'SSF', 'TMN', 'TSS', 'ZAF', 'AFE', 'AFW', 'CAF']\n",
    "        - Those are aggregated countries like North America, etc.\n",
    "    - Remove 'Country Code' column\n",
    "- 2b. Death Rate, Crude (per 1000 people)\n",
    "    - Drop all colunns besides '2018', 'Country Name'\n",
    "    - Change '2018' column name to 'DeathRate'\n",
    "    - Remove any rows with NaN values in 'DeathRate'\n",
    "    - Merge 2a and 2b into a single DataFrame (on=\"Country Name\", how=\"inner\")\n",
    "    - Convert 'ImpovRiskPercent' and 'DeathRate' columns to numeric\n"
   ]
  },
  {
   "cell_type": "code",
   "execution_count": 1,
   "metadata": {},
   "outputs": [],
   "source": [
    "import pandas as pd"
   ]
  },
  {
   "cell_type": "code",
   "execution_count": 2,
   "metadata": {},
   "outputs": [],
   "source": [
    "risk_imp_exp = pd.read_csv('data/API_SH.SGR.IRSK.ZS_DS2_en_csv_v2_3486852.csv', skiprows=4)\n"
   ]
  },
  {
   "cell_type": "markdown",
   "metadata": {},
   "source": [
    "2a Transormations"
   ]
  },
  {
   "cell_type": "code",
   "execution_count": 3,
   "metadata": {},
   "outputs": [],
   "source": [
    "risk_imp_exp.drop([\"Indicator Name\",\"Indicator Code\",\"1960\",\"1961\",\"1962\",\"1963\",\"1964\",\"1965\",\"1966\",\"1967\",\"1968\",\"1969\",\"1970\",\"1971\",\"1972\",\"1973\",\"1974\",\"1975\",\"1976\",\"1977\",\"1978\",\"1979\",\"1980\",\"1981\",\"1982\",\"1983\",\"1984\",\"1985\",\"1986\",\"1987\",\"1988\",\"1989\",\"1990\",\"1991\",\"1992\",\"1993\",\"1994\",\"1995\",\"1996\",\"1997\",\"1998\",\"1999\",\"2000\",\"2001\",\"2002\",\"2003\",\"2004\",\"2005\",\"2006\",\"2007\",\"2008\",\"2009\",\"2010\",\"2011\",\"2012\",\"2013\",\"2014\",\"2015\",\"2016\",\"2017\",\"2019\",\"2020\", \"Unnamed: 65\"], axis=1, inplace=True)\n",
    "risk_imp_exp.rename({'2018':'ImpovRiskPercent'}, axis = 1, inplace=True)\n",
    "risk_imp_exp.dropna(axis=0, inplace=True)\n",
    "risk_imp_exp.drop(risk_imp_exp[risk_imp_exp['Country Code'].isin(['WLD', 'LAC', 'LCN', 'NAC', 'TLA', 'CEB', 'ECA', 'ECS', 'EU', 'TEC', 'EAP', 'EAS', 'SAS', 'TEA', 'TSA', 'MEA', 'MNA', 'SSA', 'SSF', 'TMN', 'TSS', 'ZAF', 'AFE', 'AFW', 'CAF'])].index, inplace=True)\n",
    "risk_imp_exp.drop(['Country Code'], axis=1, inplace=True)\n"
   ]
  },
  {
   "cell_type": "markdown",
   "metadata": {},
   "source": [
    "2b Transormations"
   ]
  },
  {
   "cell_type": "code",
   "execution_count": 4,
   "metadata": {},
   "outputs": [],
   "source": [
    "death_rate = pd.read_csv('data/API_SP.DYN.CDRT.IN_DS2_en_csv_v2_3471529.csv', skiprows=4)"
   ]
  },
  {
   "cell_type": "code",
   "execution_count": 5,
   "metadata": {},
   "outputs": [],
   "source": [
    "death_rate.drop([\"Country Code\",\"Indicator Name\",\"Indicator Code\",\"1960\",\"1961\",\"1962\",\"1963\",\"1964\",\"1965\",\"1966\",\"1967\",\"1968\",\"1969\",\"1970\",\"1971\",\"1972\",\"1973\",\"1974\",\"1975\",\"1976\",\"1977\",\"1978\",\"1979\",\"1980\",\"1981\",\"1982\",\"1983\",\"1984\",\"1985\",\"1986\",\"1987\",\"1988\",\"1989\",\"1990\",\"1991\",\"1992\",\"1993\",\"1994\",\"1995\",\"1996\",\"1997\",\"1998\",\"1999\",\"2000\",\"2001\",\"2002\",\"2003\",\"2004\",\"2005\",\"2006\",\"2007\",\"2008\",\"2009\",\"2010\",\"2011\",\"2012\",\"2013\",\"2014\",\"2015\",\"2016\",\"2017\",\"2019\",\"2020\", \"Unnamed: 65\"], axis=1, inplace=True)\n",
    "death_rate.rename({'2018':'DeathRate'}, axis = 1, inplace=True)\n",
    "death_rate.dropna(axis=0, inplace=True)"
   ]
  },
  {
   "cell_type": "markdown",
   "metadata": {},
   "source": [
    "- Merge 2a and 2b into a single DataFrame (on=\"Country Name\", how=\"inner\")\n",
    "- Convert 'ImpovRiskPercent' and 'DeathRate' columns to numeric"
   ]
  },
  {
   "cell_type": "code",
   "execution_count": 6,
   "metadata": {},
   "outputs": [],
   "source": [
    "merged = risk_imp_exp.merge(death_rate, how='inner', on='Country Name')\n",
    "merged['ImpovRiskPercent'] = pd.to_numeric(merged['ImpovRiskPercent'])\n",
    "merged['DeathRate'] = pd.to_numeric(merged['DeathRate'])"
   ]
  }
 ],
 "metadata": {
  "interpreter": {
   "hash": "63fd5069d213b44bf678585dea6b12cceca9941eaf7f819626cde1f2670de90d"
  },
  "kernelspec": {
   "display_name": "Python 3.9.6 64-bit",
   "language": "python",
   "name": "python3"
  },
  "language_info": {
   "codemirror_mode": {
    "name": "ipython",
    "version": 3
   },
   "file_extension": ".py",
   "mimetype": "text/x-python",
   "name": "python",
   "nbconvert_exporter": "python",
   "pygments_lexer": "ipython3",
   "version": "3.9.6"
  },
  "orig_nbformat": 4
 },
 "nbformat": 4,
 "nbformat_minor": 2
}
